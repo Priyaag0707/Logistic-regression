{
  "cells": [
    {
      "cell_type": "code",
      "execution_count": null,
      "id": "450af9c0",
      "metadata": {
        "id": "450af9c0"
      },
      "outputs": [],
      "source": [
        "import pandas as pd\n",
        "import numpy as np\n",
        "import matplotlib.pyplot as plt\n",
        "import seaborn as sns\n"
      ]
    },
    {
      "cell_type": "code",
      "execution_count": null,
      "id": "0e489065",
      "metadata": {
        "id": "0e489065"
      },
      "outputs": [],
      "source": [
        "a=pd.read_csv(r'C:\\Users\\DELL\\Downloads\\data (1).csv')"
      ]
    },
    {
      "cell_type": "code",
      "execution_count": null,
      "id": "6b9e3f76",
      "metadata": {
        "id": "6b9e3f76",
        "outputId": "734d5752-4ce2-4b02-fcd0-3848cb41af6d"
      },
      "outputs": [
        {
          "data": {
            "text/html": [
              "<div>\n",
              "<style scoped>\n",
              "    .dataframe tbody tr th:only-of-type {\n",
              "        vertical-align: middle;\n",
              "    }\n",
              "\n",
              "    .dataframe tbody tr th {\n",
              "        vertical-align: top;\n",
              "    }\n",
              "\n",
              "    .dataframe thead th {\n",
              "        text-align: right;\n",
              "    }\n",
              "</style>\n",
              "<table border=\"1\" class=\"dataframe\">\n",
              "  <thead>\n",
              "    <tr style=\"text-align: right;\">\n",
              "      <th></th>\n",
              "      <th>Jaundice\\nRenal failure (kidney damage)\\nPulmonary hemorrhage\\nCardiac arrhythmias\\nPneumonitis\\nSeptic shock</th>\n",
              "      <th>devloped after strep throat bacteria called group A streptocoaus</th>\n",
              "      <th>Bacterium Bartonella quintana</th>\n",
              "      <th>Orientia tsutsugamushi bacteria,through bites of infected chiggers</th>\n",
              "      <th>Streptococcus</th>\n",
              "      <th>Rickettsia</th>\n",
              "      <th>Strain of haemophilus biogroupmagyptius</th>\n",
              "      <th>F</th>\n",
              "      <th>100.5–102.2</th>\n",
              "      <th>102.2–104.0</th>\n",
              "      <th>...</th>\n",
              "      <th>jaundice</th>\n",
              "      <th>Retro-orbital</th>\n",
              "      <th>Radish eys</th>\n",
              "      <th>Abdominal pain</th>\n",
              "      <th>Abdominal pain sevrer</th>\n",
              "      <th>comma</th>\n",
              "      <th>Septic Shock</th>\n",
              "      <th>death</th>\n",
              "      <th>diagnosis</th>\n",
              "      <th>Fever</th>\n",
              "    </tr>\n",
              "  </thead>\n",
              "  <tbody>\n",
              "    <tr>\n",
              "      <th>0</th>\n",
              "      <td>1</td>\n",
              "      <td>0</td>\n",
              "      <td>0</td>\n",
              "      <td>0</td>\n",
              "      <td>0</td>\n",
              "      <td>0</td>\n",
              "      <td>0</td>\n",
              "      <td>1</td>\n",
              "      <td>1</td>\n",
              "      <td>0</td>\n",
              "      <td>...</td>\n",
              "      <td>1</td>\n",
              "      <td>1</td>\n",
              "      <td>1</td>\n",
              "      <td>1</td>\n",
              "      <td>0</td>\n",
              "      <td>0</td>\n",
              "      <td>1</td>\n",
              "      <td>1</td>\n",
              "      <td>0</td>\n",
              "      <td>1</td>\n",
              "    </tr>\n",
              "    <tr>\n",
              "      <th>1</th>\n",
              "      <td>0</td>\n",
              "      <td>1</td>\n",
              "      <td>0</td>\n",
              "      <td>0</td>\n",
              "      <td>0</td>\n",
              "      <td>0</td>\n",
              "      <td>0</td>\n",
              "      <td>1</td>\n",
              "      <td>1</td>\n",
              "      <td>0</td>\n",
              "      <td>...</td>\n",
              "      <td>0</td>\n",
              "      <td>0</td>\n",
              "      <td>0</td>\n",
              "      <td>0</td>\n",
              "      <td>0</td>\n",
              "      <td>0</td>\n",
              "      <td>0</td>\n",
              "      <td>0</td>\n",
              "      <td>0</td>\n",
              "      <td>0</td>\n",
              "    </tr>\n",
              "    <tr>\n",
              "      <th>2</th>\n",
              "      <td>0</td>\n",
              "      <td>0</td>\n",
              "      <td>1</td>\n",
              "      <td>0</td>\n",
              "      <td>0</td>\n",
              "      <td>0</td>\n",
              "      <td>0</td>\n",
              "      <td>1</td>\n",
              "      <td>0</td>\n",
              "      <td>0</td>\n",
              "      <td>...</td>\n",
              "      <td>0</td>\n",
              "      <td>1</td>\n",
              "      <td>0</td>\n",
              "      <td>1</td>\n",
              "      <td>0</td>\n",
              "      <td>0</td>\n",
              "      <td>0</td>\n",
              "      <td>0</td>\n",
              "      <td>0</td>\n",
              "      <td>1</td>\n",
              "    </tr>\n",
              "    <tr>\n",
              "      <th>3</th>\n",
              "      <td>0</td>\n",
              "      <td>0</td>\n",
              "      <td>0</td>\n",
              "      <td>1</td>\n",
              "      <td>0</td>\n",
              "      <td>0</td>\n",
              "      <td>0</td>\n",
              "      <td>1</td>\n",
              "      <td>0</td>\n",
              "      <td>0</td>\n",
              "      <td>...</td>\n",
              "      <td>0</td>\n",
              "      <td>0</td>\n",
              "      <td>0</td>\n",
              "      <td>0</td>\n",
              "      <td>0</td>\n",
              "      <td>1</td>\n",
              "      <td>0</td>\n",
              "      <td>0</td>\n",
              "      <td>0</td>\n",
              "      <td>0</td>\n",
              "    </tr>\n",
              "    <tr>\n",
              "      <th>4</th>\n",
              "      <td>0</td>\n",
              "      <td>0</td>\n",
              "      <td>0</td>\n",
              "      <td>0</td>\n",
              "      <td>1</td>\n",
              "      <td>0</td>\n",
              "      <td>0</td>\n",
              "      <td>1</td>\n",
              "      <td>1</td>\n",
              "      <td>0</td>\n",
              "      <td>...</td>\n",
              "      <td>0</td>\n",
              "      <td>0</td>\n",
              "      <td>0</td>\n",
              "      <td>1</td>\n",
              "      <td>0</td>\n",
              "      <td>0</td>\n",
              "      <td>0</td>\n",
              "      <td>0</td>\n",
              "      <td>0</td>\n",
              "      <td>1</td>\n",
              "    </tr>\n",
              "  </tbody>\n",
              "</table>\n",
              "<p>5 rows × 45 columns</p>\n",
              "</div>"
            ],
            "text/plain": [
              "   Jaundice\\nRenal failure (kidney damage)\\nPulmonary hemorrhage\\nCardiac arrhythmias\\nPneumonitis\\nSeptic shock  \\\n",
              "0                                                  1                                                               \n",
              "1                                                  0                                                               \n",
              "2                                                  0                                                               \n",
              "3                                                  0                                                               \n",
              "4                                                  0                                                               \n",
              "\n",
              "   devloped after strep throat bacteria called group A streptocoaus  \\\n",
              "0                                                  0                  \n",
              "1                                                  1                  \n",
              "2                                                  0                  \n",
              "3                                                  0                  \n",
              "4                                                  0                  \n",
              "\n",
              "   Bacterium Bartonella quintana  \\\n",
              "0                              0   \n",
              "1                              0   \n",
              "2                              1   \n",
              "3                              0   \n",
              "4                              0   \n",
              "\n",
              "   Orientia tsutsugamushi bacteria,through bites of infected chiggers  \\\n",
              "0                                                  0                    \n",
              "1                                                  0                    \n",
              "2                                                  0                    \n",
              "3                                                  1                    \n",
              "4                                                  0                    \n",
              "\n",
              "   Streptococcus  Rickettsia  Strain of haemophilus biogroupmagyptius  F  \\\n",
              "0              0           0                                        0  1   \n",
              "1              0           0                                        0  1   \n",
              "2              0           0                                        0  1   \n",
              "3              0           0                                        0  1   \n",
              "4              1           0                                        0  1   \n",
              "\n",
              "   100.5–102.2  102.2–104.0  ...  jaundice  Retro-orbital  Radish eys  \\\n",
              "0            1            0  ...         1              1           1   \n",
              "1            1            0  ...         0              0           0   \n",
              "2            0            0  ...         0              1           0   \n",
              "3            0            0  ...         0              0           0   \n",
              "4            1            0  ...         0              0           0   \n",
              "\n",
              "   Abdominal pain  Abdominal pain sevrer  comma  Septic Shock  death  \\\n",
              "0               1                      0      0             1      1   \n",
              "1               0                      0      0             0      0   \n",
              "2               1                      0      0             0      0   \n",
              "3               0                      0      1             0      0   \n",
              "4               1                      0      0             0      0   \n",
              "\n",
              "   diagnosis  Fever  \n",
              "0          0      1  \n",
              "1          0      0  \n",
              "2          0      1  \n",
              "3          0      0  \n",
              "4          0      1  \n",
              "\n",
              "[5 rows x 45 columns]"
            ]
          },
          "execution_count": 6,
          "metadata": {},
          "output_type": "execute_result"
        }
      ],
      "source": [
        "a.head()"
      ]
    },
    {
      "cell_type": "code",
      "execution_count": null,
      "id": "88474e3e",
      "metadata": {
        "id": "88474e3e",
        "outputId": "f9c23b70-a3ca-4103-979e-301334b38338"
      },
      "outputs": [
        {
          "name": "stdout",
          "output_type": "stream",
          "text": [
            "<class 'pandas.core.frame.DataFrame'>\n",
            "RangeIndex: 62 entries, 0 to 61\n",
            "Data columns (total 45 columns):\n",
            " #   Column                                                                                                    Non-Null Count  Dtype\n",
            "---  ------                                                                                                    --------------  -----\n",
            " 0   Jaundice\n",
            "Renal failure (kidney damage)\n",
            "Pulmonary hemorrhage\n",
            "Cardiac arrhythmias\n",
            "Pneumonitis\n",
            "Septic shock  62 non-null     int64\n",
            " 1   devloped after strep throat bacteria called group A streptocoaus                                          62 non-null     int64\n",
            " 2   Bacterium Bartonella quintana                                                                             62 non-null     int64\n",
            " 3   Orientia tsutsugamushi bacteria,through bites of infected chiggers                                        62 non-null     int64\n",
            " 4   Streptococcus                                                                                             62 non-null     int64\n",
            " 5   Rickettsia                                                                                                62 non-null     int64\n",
            " 6   Strain of haemophilus biogroupmagyptius                                                                   62 non-null     int64\n",
            " 7   F                                                                                                         62 non-null     int64\n",
            " 8   100.5–102.2                                                                                               62 non-null     int64\n",
            " 9   102.2–104.0                                                                                               62 non-null     int64\n",
            " 10  104.1–106.0                                                                                               62 non-null     int64\n",
            " 11  Acute <7days                                                                                              62 non-null     int64\n",
            " 12  Subacute < = 2 weeks                                                                                      62 non-null     int64\n",
            " 13  Cronic >2weeks                                                                                            62 non-null     int64\n",
            " 14  Fatigue                                                                                                   62 non-null     int64\n",
            " 15  Weakness Fatek                                                                                            62 non-null     int64\n",
            " 16  Muscle pain                                                                                               62 non-null     int64\n",
            " 17  painful tender joints                                                                                     62 non-null     int64\n",
            " 18  heart faliur shortemess of breath                                                                         62 non-null     int64\n",
            " 19  Body ache                                                                                                 62 non-null     int64\n",
            " 20  Headache                                                                                                  62 non-null     int64\n",
            " 21  1 Headache (with pain behind the e1)                                                                      62 non-null     int64\n",
            " 22  1 Splitting headache                                                                                      62 non-null     int64\n",
            " 23  Sore throa                                                                                                62 non-null     int64\n",
            " 24  1 swollen gland in neck                                                                                   62 non-null     int64\n",
            " 25  cough                                                                                                     62 non-null     int64\n",
            " 26  Vomiting                                                                                                  62 non-null     int64\n",
            " 27  Diarrhoea                                                                                                 62 non-null     int64\n",
            " 28  Rash                                                                                                      62 non-null     int64\n",
            " 29  Pink ring with clear center                                                                               62 non-null     int64\n",
            " 30   Truncal                                                                                                  62 non-null     int64\n",
            " 31   Red skin strawberry toungh  ,bright red skin under elbow and groin                                       62 non-null     int64\n",
            " 32  Rose color spots                                                                                          62 non-null     int64\n",
            " 33  Nausea                                                                                                    62 non-null     int64\n",
            " 34  Chills                                                                                                    62 non-null     int64\n",
            " 35  jaundice                                                                                                  62 non-null     int64\n",
            " 36  Retro-orbital                                                                                             62 non-null     int64\n",
            " 37  Radish eys                                                                                                62 non-null     int64\n",
            " 38  Abdominal pain                                                                                            62 non-null     int64\n",
            " 39  Abdominal pain sevrer                                                                                     62 non-null     int64\n",
            " 40  comma                                                                                                     62 non-null     int64\n",
            " 41  Septic Shock                                                                                              62 non-null     int64\n",
            " 42  death                                                                                                     62 non-null     int64\n",
            " 43  diagnosis                                                                                                 62 non-null     int64\n",
            " 44  Fever                                                                                                     62 non-null     int64\n",
            "dtypes: int64(45)\n",
            "memory usage: 21.9 KB\n"
          ]
        }
      ],
      "source": [
        "a.info()"
      ]
    },
    {
      "cell_type": "code",
      "execution_count": null,
      "id": "eb198ba6",
      "metadata": {
        "id": "eb198ba6",
        "outputId": "e3dcc402-228e-4e49-cc0f-4c7de912122a"
      },
      "outputs": [
        {
          "data": {
            "text/plain": [
              "Index(['Jaundice\\nRenal failure (kidney damage)\\nPulmonary hemorrhage\\nCardiac arrhythmias\\nPneumonitis\\nSeptic shock',\n",
              "       'devloped after strep throat bacteria called group A streptocoaus',\n",
              "       'Bacterium Bartonella quintana',\n",
              "       'Orientia tsutsugamushi bacteria,through bites of infected chiggers',\n",
              "       'Streptococcus', 'Rickettsia',\n",
              "       'Strain of haemophilus biogroupmagyptius', 'F', '100.5–102.2',\n",
              "       '102.2–104.0', '104.1–106.0', 'Acute <7days', 'Subacute < = 2 weeks',\n",
              "       'Cronic >2weeks', 'Fatigue', 'Weakness Fatek', 'Muscle pain',\n",
              "       'painful tender joints ', 'heart faliur shortemess of breath',\n",
              "       'Body ache', 'Headache', '1 Headache (with pain behind the e1)',\n",
              "       '1 Splitting headache', 'Sore throa', '1 swollen gland in neck',\n",
              "       'cough', 'Vomiting', 'Diarrhoea', 'Rash', 'Pink ring with clear center',\n",
              "       ' Truncal',\n",
              "       ' Red skin strawberry toungh  ,bright red skin under elbow and groin ',\n",
              "       'Rose color spots ', 'Nausea', 'Chills', 'jaundice', 'Retro-orbital',\n",
              "       'Radish eys', 'Abdominal pain', 'Abdominal pain sevrer', 'comma',\n",
              "       'Septic Shock', 'death', 'diagnosis', 'Fever'],\n",
              "      dtype='object')"
            ]
          },
          "execution_count": 8,
          "metadata": {},
          "output_type": "execute_result"
        }
      ],
      "source": [
        "a.columns"
      ]
    },
    {
      "cell_type": "code",
      "execution_count": null,
      "id": "0d56a034",
      "metadata": {
        "id": "0d56a034"
      },
      "outputs": [],
      "source": [
        "x=a.drop(['Jaundice\\nRenal failure (kidney damage)\\nPulmonary hemorrhage\\nCardiac arrhythmias\\nPneumonitis\\nSeptic shock'], axis=1)\n",
        "y=a['Jaundice\\nRenal failure (kidney damage)\\nPulmonary hemorrhage\\nCardiac arrhythmias\\nPneumonitis\\nSeptic shock']"
      ]
    },
    {
      "cell_type": "code",
      "execution_count": null,
      "id": "072fbd5c",
      "metadata": {
        "id": "072fbd5c"
      },
      "outputs": [],
      "source": [
        "from sklearn.model_selection import train_test_split"
      ]
    },
    {
      "cell_type": "code",
      "execution_count": null,
      "id": "88ca2859",
      "metadata": {
        "id": "88ca2859"
      },
      "outputs": [],
      "source": [
        "x_train, x_test, y_train, y_test = train_test_split(x,y,test_size=0.3)"
      ]
    },
    {
      "cell_type": "code",
      "execution_count": null,
      "id": "8efc2c71",
      "metadata": {
        "id": "8efc2c71",
        "outputId": "1de8d9e9-3eff-4950-ec3d-7e08a130bf1d"
      },
      "outputs": [
        {
          "data": {
            "text/plain": [
              "(19, 44)"
            ]
          },
          "execution_count": 12,
          "metadata": {},
          "output_type": "execute_result"
        }
      ],
      "source": [
        "x_test.shape"
      ]
    },
    {
      "cell_type": "code",
      "execution_count": null,
      "id": "e61f9514",
      "metadata": {
        "id": "e61f9514"
      },
      "outputs": [],
      "source": [
        "from sklearn.linear_model import LogisticRegression"
      ]
    },
    {
      "cell_type": "code",
      "execution_count": null,
      "id": "eeb37cfb",
      "metadata": {
        "id": "eeb37cfb"
      },
      "outputs": [],
      "source": [
        "b=LogisticRegression()"
      ]
    },
    {
      "cell_type": "code",
      "execution_count": null,
      "id": "36d66a76",
      "metadata": {
        "id": "36d66a76",
        "outputId": "9e647fa9-eb12-4d49-e52c-b1c01170ec02"
      },
      "outputs": [
        {
          "data": {
            "text/plain": [
              "LogisticRegression()"
            ]
          },
          "execution_count": 15,
          "metadata": {},
          "output_type": "execute_result"
        }
      ],
      "source": [
        "b.fit(x_train,y_train)"
      ]
    },
    {
      "cell_type": "code",
      "execution_count": null,
      "id": "c89268bd",
      "metadata": {
        "id": "c89268bd"
      },
      "outputs": [],
      "source": [
        "y_pred=b.predict(x_test)"
      ]
    },
    {
      "cell_type": "code",
      "execution_count": null,
      "id": "a20486b9",
      "metadata": {
        "id": "a20486b9",
        "outputId": "be0e966b-8df4-4013-a929-0495e656bc9e"
      },
      "outputs": [
        {
          "data": {
            "text/plain": [
              "54    0\n",
              "60    0\n",
              "30    0\n",
              "44    0\n",
              "46    0\n",
              "Name: Jaundice\\nRenal failure (kidney damage)\\nPulmonary hemorrhage\\nCardiac arrhythmias\\nPneumonitis\\nSeptic shock, dtype: int64"
            ]
          },
          "execution_count": 17,
          "metadata": {},
          "output_type": "execute_result"
        }
      ],
      "source": [
        "y_test.head()"
      ]
    },
    {
      "cell_type": "code",
      "execution_count": null,
      "id": "a965f8b4",
      "metadata": {
        "id": "a965f8b4",
        "outputId": "f0ace3eb-05e3-48ec-d55a-6769118e1094"
      },
      "outputs": [
        {
          "data": {
            "text/plain": [
              "array([0, 0, 0, 0, 0], dtype=int64)"
            ]
          },
          "execution_count": 18,
          "metadata": {},
          "output_type": "execute_result"
        }
      ],
      "source": [
        "y_pred[0:5]"
      ]
    },
    {
      "cell_type": "code",
      "execution_count": null,
      "id": "bfc0663a",
      "metadata": {
        "id": "bfc0663a"
      },
      "outputs": [],
      "source": [
        "from sklearn.metrics import mean_squared_error"
      ]
    },
    {
      "cell_type": "code",
      "execution_count": null,
      "id": "231b0891",
      "metadata": {
        "id": "231b0891",
        "outputId": "a1efa4f5-1634-41bb-b217-453218b95493"
      },
      "outputs": [
        {
          "data": {
            "text/plain": [
              "0.10526315789473684"
            ]
          },
          "execution_count": 20,
          "metadata": {},
          "output_type": "execute_result"
        }
      ],
      "source": [
        "mean_squared_error(y_test,y_pred)"
      ]
    },
    {
      "cell_type": "code",
      "execution_count": null,
      "id": "a5f3b96c",
      "metadata": {
        "id": "a5f3b96c",
        "outputId": "2960fc37-59f2-4fe4-8ae1-deedb626b470"
      },
      "outputs": [
        {
          "data": {
            "text/plain": [
              "0.9534883720930233"
            ]
          },
          "execution_count": 21,
          "metadata": {},
          "output_type": "execute_result"
        }
      ],
      "source": [
        "b.score(x_train,y_train)"
      ]
    },
    {
      "cell_type": "code",
      "execution_count": null,
      "id": "e2a1b673",
      "metadata": {
        "id": "e2a1b673",
        "outputId": "e1ddfb84-da9f-4e26-e5f4-b7efb02aabb5"
      },
      "outputs": [
        {
          "data": {
            "text/plain": [
              "array([-1.48900738])"
            ]
          },
          "execution_count": 22,
          "metadata": {},
          "output_type": "execute_result"
        }
      ],
      "source": [
        "b.intercept_"
      ]
    },
    {
      "cell_type": "code",
      "execution_count": null,
      "id": "90ec5dda",
      "metadata": {
        "id": "90ec5dda",
        "outputId": "3c8b1378-a8c7-49c7-a613-113cf699cee5"
      },
      "outputs": [
        {
          "data": {
            "text/plain": [
              "array([[-0.53096187, -0.28911179, -0.30336825,  0.14051979, -0.6344789 ,\n",
              "         0.73866892, -0.17925964, -0.12605369, -0.16583906,  0.68741266,\n",
              "        -0.13284772, -0.7163307 , -0.4392035 , -0.05763085, -0.26353003,\n",
              "        -0.06316424, -0.13125356,  0.26303657, -0.65757938, -0.09004494,\n",
              "        -0.55045993,  0.39690736, -0.43781609,  0.35812326,  0.06398517,\n",
              "         0.28259475,  0.41822569, -0.16088875, -0.57009874, -0.31231605,\n",
              "        -0.35151825,  0.03575134, -0.19223478, -0.23662304,  0.96146663,\n",
              "         0.07436538,  0.26566109, -0.15595652, -0.11640826, -0.15301573,\n",
              "         0.42016543,  0.49848657, -0.24921718,  0.1521298 ]])"
            ]
          },
          "execution_count": 23,
          "metadata": {},
          "output_type": "execute_result"
        }
      ],
      "source": [
        "b.coef_"
      ]
    },
    {
      "cell_type": "code",
      "execution_count": null,
      "id": "a03a4cac",
      "metadata": {
        "id": "a03a4cac",
        "outputId": "eeeb603c-f94d-4dad-a2e9-d9e313afc4b9"
      },
      "outputs": [
        {
          "name": "stdout",
          "output_type": "stream",
          "text": [
            "Mean Absolute Error: 0.10526315789473684\n",
            "\n",
            "Mean Squared Error: 0.10526315789473684\n",
            "\n",
            "Root Mean Squared Error: 0.3244428422615251\n",
            "\n",
            "Confusion Metrics Of Our Test Dataset is\n",
            " [[17  0]\n",
            " [ 2  0]]\n"
          ]
        }
      ],
      "source": [
        "from sklearn.metrics import confusion_matrix\n",
        "cm = confusion_matrix(y_test, y_pred)\n",
        "# Evaluating the Algorithm\n",
        "from sklearn import metrics\n",
        "print('Mean Absolute Error:', metrics.mean_absolute_error(y_test, y_pred))  \n",
        "print('\\nMean Squared Error:', metrics.mean_squared_error(y_test, y_pred))\n",
        "print('\\nRoot Mean Squared Error:', np.sqrt(metrics.mean_squared_error(y_test, y_pred)))\n",
        "print(\"\\nConfusion Metrics Of Our Test Dataset is\\n\", cm)"
      ]
    },
    {
      "cell_type": "code",
      "execution_count": null,
      "id": "a0c0a880",
      "metadata": {
        "id": "a0c0a880"
      },
      "outputs": [],
      "source": [
        "x_new=[[0,0,1,0,1,0,1,0,0,1,0,1,0,0,1,1,1,0,0,0,0,0,0,1,1,1,1,0,1,0,1,0,1,0,1,0,1,0,0,0,0,0,1,1]]"
      ]
    },
    {
      "cell_type": "code",
      "execution_count": null,
      "id": "03d121fd",
      "metadata": {
        "id": "03d121fd"
      },
      "outputs": [],
      "source": [
        "y_pred=b.predict(x_new)"
      ]
    },
    {
      "cell_type": "code",
      "execution_count": null,
      "id": "34c1c8d7",
      "metadata": {
        "id": "34c1c8d7",
        "outputId": "3e77778b-8698-408f-e681-b6f7a2b80a02"
      },
      "outputs": [
        {
          "data": {
            "text/plain": [
              "array([0], dtype=int64)"
            ]
          },
          "execution_count": 42,
          "metadata": {},
          "output_type": "execute_result"
        }
      ],
      "source": [
        "y_pred"
      ]
    },
    {
      "cell_type": "code",
      "execution_count": null,
      "id": "d0396883",
      "metadata": {
        "id": "d0396883"
      },
      "outputs": [],
      "source": []
    },
    {
      "cell_type": "code",
      "execution_count": null,
      "id": "53a77c51",
      "metadata": {
        "id": "53a77c51"
      },
      "outputs": [],
      "source": []
    }
  ],
  "metadata": {
    "kernelspec": {
      "display_name": "Python 3",
      "language": "python",
      "name": "python3"
    },
    "language_info": {
      "codemirror_mode": {
        "name": "ipython",
        "version": 3
      },
      "file_extension": ".py",
      "mimetype": "text/x-python",
      "name": "python",
      "nbconvert_exporter": "python",
      "pygments_lexer": "ipython3",
      "version": "3.8.8"
    },
    "colab": {
      "provenance": []
    }
  },
  "nbformat": 4,
  "nbformat_minor": 5
}